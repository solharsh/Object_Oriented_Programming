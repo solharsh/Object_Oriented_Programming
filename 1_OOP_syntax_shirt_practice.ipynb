{
  "nbformat": 4,
  "nbformat_minor": 0,
  "metadata": {
    "colab": {
      "name": "1.OOP_syntax_shirt_practice.ipynb",
      "provenance": [],
      "authorship_tag": "ABX9TyP56jOAQRYTrtSSTg0CUj1i",
      "include_colab_link": true
    },
    "kernelspec": {
      "name": "python3",
      "display_name": "Python 3"
    }
  },
  "cells": [
    {
      "cell_type": "markdown",
      "metadata": {
        "id": "view-in-github",
        "colab_type": "text"
      },
      "source": [
        "<a href=\"https://colab.research.google.com/github/solharsh/Object_Oriented_Programming/blob/master/1_OOP_syntax_shirt_practice.ipynb\" target=\"_parent\"><img src=\"https://colab.research.google.com/assets/colab-badge.svg\" alt=\"Open In Colab\"/></a>"
      ]
    },
    {
      "cell_type": "markdown",
      "metadata": {
        "id": "Fgso-QyuZSJP",
        "colab_type": "text"
      },
      "source": [
        "# CREATING A CLASS"
      ]
    },
    {
      "cell_type": "code",
      "metadata": {
        "id": "9OC3TcupZTuC",
        "colab_type": "code",
        "colab": {}
      },
      "source": [
        "class Shirt:\n",
        "\n",
        "    def __init__(self, shirt_color, shirt_size, shirt_style, shirt_price):\n",
        "        self.color = shirt_color\n",
        "        self.size = shirt_size\n",
        "        self.style = shirt_style\n",
        "        self.price = shirt_price\n",
        "    \n",
        "    def change_price(self, new_price):\n",
        "    \n",
        "        self.price = new_price\n",
        "        \n",
        "    def discount(self, discount):\n",
        "\n",
        "        return self.price * (1 - discount)"
      ],
      "execution_count": 0,
      "outputs": []
    },
    {
      "cell_type": "code",
      "metadata": {
        "id": "Be9NeuXdZU7V",
        "colab_type": "code",
        "colab": {}
      },
      "source": [
        "### TODO:\n",
        "#    - insantiate a shirt object with the following characteristics:\n",
        "#        - color red, size S, style long-sleeve, and price 25\n",
        "#    - store the object in a variable called shirt_one\n",
        "#\n",
        "#\n",
        "###\n",
        "\n",
        "shirt_one = Shirt('red', 'S', 'long-sleeve', 25)"
      ],
      "execution_count": 0,
      "outputs": []
    },
    {
      "cell_type": "code",
      "metadata": {
        "id": "oykbulknZp7J",
        "colab_type": "code",
        "colab": {
          "base_uri": "https://localhost:8080/",
          "height": 73
        },
        "outputId": "88b69d0e-31d7-4d4c-d095-733ecca7a0e8"
      },
      "source": [
        "### TODO:\n",
        "#     - print the price of the shirt using the price attribute\n",
        "#     - use the change_price method to change the price of the shirt to 10\n",
        "#     - print the price of the shirt using the price attribute\n",
        "#     - use the discount method to print the price of the shirt with a 12% discount\n",
        "#\n",
        "###\n",
        "\n",
        "print(shirt_one.price)\n",
        "shirt_one.change_price(10)\n",
        "print(shirt_one.price)\n",
        "print(shirt_one.discount(.12))"
      ],
      "execution_count": 4,
      "outputs": [
        {
          "output_type": "stream",
          "text": [
            "25\n",
            "10\n",
            "8.8\n"
          ],
          "name": "stdout"
        }
      ]
    },
    {
      "cell_type": "code",
      "metadata": {
        "id": "YzYoMT-dZyTU",
        "colab_type": "code",
        "colab": {}
      },
      "source": [
        "### TODO:\n",
        "#\n",
        "#    - instantiate another object with the following characteristics:\n",
        "# .       - color orange, size L, style short-sleeve, and price 10\n",
        "#    - store the object in a variable called shirt_two\n",
        "#\n",
        "###\n",
        "\n",
        "shirt_two = Shirt('orange', 'L', 'short-sleeve', 10)"
      ],
      "execution_count": 0,
      "outputs": []
    },
    {
      "cell_type": "code",
      "metadata": {
        "id": "qFRHLt5tZ-XI",
        "colab_type": "code",
        "colab": {
          "base_uri": "https://localhost:8080/",
          "height": 36
        },
        "outputId": "a7610b53-2b65-4d51-96fa-e744cd12258e"
      },
      "source": [
        "### TODO:\n",
        "#\n",
        "#    - calculate the total cost of shirt_one and shirt_two\n",
        "#    - store the results in a variable called total\n",
        "#    \n",
        "###\n",
        "\n",
        "total = shirt_one.price + shirt_two.price\n",
        "print(total)"
      ],
      "execution_count": 6,
      "outputs": [
        {
          "output_type": "stream",
          "text": [
            "20\n"
          ],
          "name": "stdout"
        }
      ]
    },
    {
      "cell_type": "code",
      "metadata": {
        "id": "l5NAcYAEaGwm",
        "colab_type": "code",
        "colab": {
          "base_uri": "https://localhost:8080/",
          "height": 36
        },
        "outputId": "d6cd4ab1-1243-4f13-ceb4-7046bf80fcd3"
      },
      "source": [
        "### TODO:\n",
        "#\n",
        "#    - use the shirt discount method to calculate the total cost if\n",
        "#       shirt_one has a discount of 14% and shirt_two has a discount\n",
        "#       of 6%\n",
        "#    - store the results in a variable called total_discount\n",
        "###\n",
        "\n",
        "total_discount =  shirt_one.discount(.14) + shirt_two.discount(.06) \n",
        "print(total_discount)"
      ],
      "execution_count": 9,
      "outputs": [
        {
          "output_type": "stream",
          "text": [
            "18.0\n"
          ],
          "name": "stdout"
        }
      ]
    },
    {
      "cell_type": "markdown",
      "metadata": {
        "id": "NdLZSi3_ak1w",
        "colab_type": "text"
      },
      "source": [
        "# Test your Code"
      ]
    },
    {
      "cell_type": "markdown",
      "metadata": {
        "id": "3KAaiqYfanWd",
        "colab_type": "text"
      },
      "source": [
        "The following code cell tests your code.\n",
        "\n",
        "There is a file called tests.py containing a function called run_tests(). The run_tests() function executes a handful of assert statements to check your work.\n",
        "\n",
        "Execute the next code cell. The code will produce an error if your answers in this exercise are not what was expected. Keep working on your code until all tests are passing.\n",
        "\n",
        "If you run the code cell and there is no output, then you passed all the tests!"
      ]
    },
    {
      "cell_type": "code",
      "metadata": {
        "id": "U5-V2zH2abrb",
        "colab_type": "code",
        "colab": {}
      },
      "source": [
        "def run_tests(shirt_one, shirt_two, total_cost, total_discount):\n",
        " \n",
        "    # Unit tests to check your solution\n",
        "    assert shirt_one.price == 10, 'shirt_one price should be 10'\n",
        "    assert shirt_one.color == 'red', ' shirt_one should be red'\n",
        "    assert shirt_one.style == 'long-sleeve', 'shirt_one should be long_sleeve style'\n",
        "    assert shirt_one.size == 'S', 'shirt_one size should be S'\n",
        "\n",
        "    assert shirt_two.price == 10, 'shirt_two price should be 10'\n",
        "    assert shirt_two.color == 'orange', 'shirt_two should be orange'\n",
        "    assert shirt_two.style == 'short-sleeve', 'shirt_two should be short_sleeve style'\n",
        "    assert shirt_two.size == 'L', 'shirt_two size should be L'\n",
        "\n",
        "    assert total_cost == 20, 'the total_cost of both shirts should be 20'\n",
        "    \n",
        "    assert round(total_discount) == 18, 'total_discount should be 18.0'"
      ],
      "execution_count": 0,
      "outputs": []
    },
    {
      "cell_type": "code",
      "metadata": {
        "id": "Z5qGUe4Vaxmm",
        "colab_type": "code",
        "colab": {}
      },
      "source": [
        "# Unit tests to check your solution\n",
        "run_tests(shirt_one, shirt_two, total, total_discount)"
      ],
      "execution_count": 0,
      "outputs": []
    },
    {
      "cell_type": "code",
      "metadata": {
        "id": "V0Lp-7prbBVu",
        "colab_type": "code",
        "colab": {}
      },
      "source": [
        ""
      ],
      "execution_count": 0,
      "outputs": []
    }
  ]
}